{
    "metadata": {
        "kernelspec": {
            "name": "SQL",
            "display_name": "SQL",
            "language": "sql"
        },
        "language_info": {
            "name": "sql",
            "version": ""
        }
    },
    "nbformat_minor": 2,
    "nbformat": 4,
    "cells": [
        {
            "cell_type": "markdown",
            "source": [
                "# Data Warehouse: Designing and building with SQL Server"
            ],
            "metadata": {
                "azdata_cell_guid": "7e8c4844-4889-4074-be8a-fa2276be78b9"
            },
            "attachments": {}
        },
        {
            "cell_type": "code",
            "source": [
                "--create db for DW\r\n",
                "CREATE DATABASE AdventureWorksDW;"
            ],
            "metadata": {
                "azdata_cell_guid": "d1d4db36-0be8-4e0b-a64b-4ce34c3f4a1f",
                "language": "sql"
            },
            "outputs": [],
            "execution_count": null
        },
        {
            "cell_type": "code",
            "source": [
                "--create user with permissions (for later use)\r\n",
                "USE AdventureWorksDW;\r\n",
                "CREATE LOGIN cr46p1 WITH PASSWORD = 'Sql@1234';\r\n",
                "CREATE USER cr46p1 FOR login cr46p1; \r\n",
                "GRANT SELECT, INSERT, UPDATE, DELETE ON DATABASE::AdventureWorksDW TO cr46p1;"
            ],
            "metadata": {
                "azdata_cell_guid": "8066f245-ee79-4d32-a984-da3ea9250fab",
                "language": "sql"
            },
            "outputs": [
                {
                    "output_type": "error",
                    "ename": "",
                    "evalue": "Msg 15025, Level 16, State 1, Line 1\r\nThe server principal 'cr46p1' already exists.",
                    "traceback": []
                },
                {
                    "output_type": "error",
                    "ename": "",
                    "evalue": "Msg 15023, Level 16, State 5, Line 2\r\nUser, group, or role 'cr46p1' already exists in the current database.",
                    "traceback": []
                },
                {
                    "output_type": "display_data",
                    "data": {
                        "text/html": "Total execution time: 00:00:00.138"
                    },
                    "metadata": {}
                }
            ],
            "execution_count": 6
        },
        {
            "cell_type": "code",
            "source": [
                "--analyze the source db schema, tables and fields with data types\r\n",
                "--begin dimensional modelling: fact table\r\n",
                ""
            ],
            "metadata": {
                "language": "sql",
                "azdata_cell_guid": "ce759246-1216-47ed-b5af-ccbaf670578f"
            },
            "outputs": [
                {
                    "output_type": "display_data",
                    "data": {
                        "text/html": "Commands completed successfully."
                    },
                    "metadata": {}
                },
                {
                    "output_type": "display_data",
                    "data": {
                        "text/html": "Total execution time: 00:00:00.131"
                    },
                    "metadata": {}
                }
            ],
            "execution_count": 5
        }
    ]
}